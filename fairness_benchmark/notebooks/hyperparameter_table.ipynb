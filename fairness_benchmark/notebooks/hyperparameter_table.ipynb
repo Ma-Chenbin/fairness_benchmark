{
 "cells": [
  {
   "cell_type": "code",
   "execution_count": 1,
   "metadata": {},
   "outputs": [],
   "source": [
    "import os\n",
    "import numpy as np\n",
    "import pandas as pd\n",
    "import glob\n",
    "from prediction_utils.util import yaml_read, df_dict_concat"
   ]
  },
  {
   "cell_type": "code",
   "execution_count": 2,
   "metadata": {},
   "outputs": [],
   "source": [
    "table_path = '../figures/hyperparameters/'\n",
    "os.makedirs(table_path, exist_ok = True)"
   ]
  },
  {
   "cell_type": "code",
   "execution_count": 3,
   "metadata": {},
   "outputs": [],
   "source": [
    "param_grid_base = {\n",
    "        \"lr\": [1e-3, 1e-4, 1e-5],\n",
    "        \"batch_size\": [128, 256, 512],\n",
    "        \"drop_prob\": [0.0, 0.25, 0.5, 0.75],\n",
    "        \"num_hidden\": [1, 2, 3],\n",
    "        \"hidden_dim\": [128, 256],\n",
    "}\n",
    "\n",
    "the_dict = {'hyperparameter': [], 'Grid': []}\n",
    "for key, value in param_grid_base.items():\n",
    "    the_dict['hyperparameter'].append(key)\n",
    "    the_dict['Grid'].append(value)\n",
    "the_df = pd.DataFrame(the_dict)\n",
    "rename_grid = {\n",
    "    'hyperparameter': ['lr', 'batch_size', 'drop_prob', 'num_hidden', 'hidden_dim'],\n",
    "    'Hyperparameter': ['Learning Rate', 'Batch Size', 'Dropout Probability', 'Number of Hidden Layers', 'Hidden Dimension']\n",
    "}\n",
    "rename_df = pd.DataFrame(rename_grid)\n",
    "the_df = the_df.merge(rename_df)[['Hyperparameter', 'Grid']].sort_values('Hyperparameter')"
   ]
  },
  {
   "cell_type": "code",
   "execution_count": 4,
   "metadata": {},
   "outputs": [
    {
     "data": {
      "text/html": [
       "<div>\n",
       "<style scoped>\n",
       "    .dataframe tbody tr th:only-of-type {\n",
       "        vertical-align: middle;\n",
       "    }\n",
       "\n",
       "    .dataframe tbody tr th {\n",
       "        vertical-align: top;\n",
       "    }\n",
       "\n",
       "    .dataframe thead th {\n",
       "        text-align: right;\n",
       "    }\n",
       "</style>\n",
       "<table border=\"1\" class=\"dataframe\">\n",
       "  <thead>\n",
       "    <tr style=\"text-align: right;\">\n",
       "      <th></th>\n",
       "      <th>Hyperparameter</th>\n",
       "      <th>Grid</th>\n",
       "    </tr>\n",
       "  </thead>\n",
       "  <tbody>\n",
       "    <tr>\n",
       "      <th>1</th>\n",
       "      <td>Batch Size</td>\n",
       "      <td>[128, 256, 512]</td>\n",
       "    </tr>\n",
       "    <tr>\n",
       "      <th>2</th>\n",
       "      <td>Dropout Probability</td>\n",
       "      <td>[0.0, 0.25, 0.5, 0.75]</td>\n",
       "    </tr>\n",
       "    <tr>\n",
       "      <th>4</th>\n",
       "      <td>Hidden Dimension</td>\n",
       "      <td>[128, 256]</td>\n",
       "    </tr>\n",
       "    <tr>\n",
       "      <th>0</th>\n",
       "      <td>Learning Rate</td>\n",
       "      <td>[0.001, 0.0001, 1e-05]</td>\n",
       "    </tr>\n",
       "    <tr>\n",
       "      <th>3</th>\n",
       "      <td>Number of Hidden Layers</td>\n",
       "      <td>[1, 2, 3]</td>\n",
       "    </tr>\n",
       "  </tbody>\n",
       "</table>\n",
       "</div>"
      ],
      "text/plain": [
       "            Hyperparameter                    Grid\n",
       "1               Batch Size         [128, 256, 512]\n",
       "2      Dropout Probability  [0.0, 0.25, 0.5, 0.75]\n",
       "4         Hidden Dimension              [128, 256]\n",
       "0            Learning Rate  [0.001, 0.0001, 1e-05]\n",
       "3  Number of Hidden Layers               [1, 2, 3]"
      ]
     },
     "execution_count": 4,
     "metadata": {},
     "output_type": "execute_result"
    }
   ],
   "source": [
    "the_df"
   ]
  },
  {
   "cell_type": "code",
   "execution_count": 5,
   "metadata": {},
   "outputs": [],
   "source": [
    "the_df.to_latex(os.path.join(table_path, 'param_grid.txt'), index=False)"
   ]
  },
  {
   "cell_type": "code",
   "execution_count": 6,
   "metadata": {},
   "outputs": [],
   "source": [
    "selected_models_path = '/share/pi/nigam/projects/spfohl/cohorts/admissions/optum/experiments/baseline_tuning_fold_1/config/selected_models'"
   ]
  },
  {
   "cell_type": "code",
   "execution_count": 7,
   "metadata": {},
   "outputs": [],
   "source": [
    "selected_models_path_dict = {\n",
    "    'starr': '/share/pi/nigam/projects/spfohl/cohorts/admissions/starr_20200523/experiments/baseline_tuning_fold_1_10/config/selected_models',\n",
    "    'mimic': '/share/pi/nigam/projects/spfohl/cohorts/admissions/mimic_omop/experiments/baseline_tuning_fold_1_10/config/selected_models',\n",
    "    'optum': '/share/pi/nigam/projects/spfohl/cohorts/admissions/optum/experiments/baseline_tuning_fold_1/config/selected_models',\n",
    "}\n",
    "selected_param_dict = {\n",
    "    db: {\n",
    "        task: yaml_read(glob.glob(os.path.join(db_path, task, '*.yaml'), recursive=True)[0]) for task in os.listdir(db_path)\n",
    "    }\n",
    "    for db, db_path in selected_models_path_dict.items()\n",
    "}"
   ]
  },
  {
   "cell_type": "code",
   "execution_count": 8,
   "metadata": {},
   "outputs": [],
   "source": [
    "col_order = {\n",
    "    'starr': ['hospital_mortality', 'LOS_7', 'readmission_30'],\n",
    "    'mimic': ['los_icu_3days', 'los_icu_7days', 'mortality_hospital', 'mortality_icu'],\n",
    "    'optum': ['readmission_30', 'LOS_7'],\n",
    "}"
   ]
  },
  {
   "cell_type": "code",
   "execution_count": 9,
   "metadata": {},
   "outputs": [],
   "source": [
    "for db in selected_param_dict.keys():\n",
    "    db_params = selected_param_dict[db]\n",
    "    db_df = (\n",
    "        pd.concat({key: pd.DataFrame(value, index= [0]) for key, value in db_params.items()})\n",
    "        .reset_index(level=1,drop=True)\n",
    "        .rename_axis('task')\n",
    "        .transpose()\n",
    "        .rename_axis('hyperparameter')\n",
    "        .reset_index()\n",
    "        .merge(rename_df, how ='right')\n",
    "    )\n",
    "    db_df = db_df[['Hyperparameter'] + list(set(db_df.columns) - set(['hyperparameter', 'Hyperparameter']))].sort_values('Hyperparameter')\n",
    "    db_df = db_df[['Hyperparameter'] + col_order[db]].sort_values('Hyperparameter')\n",
    "    selected_param_path = os.path.join(table_path, db)\n",
    "    os.makedirs(selected_param_path, exist_ok=True)\n",
    "    db_df.to_latex(os.path.join(selected_param_path, 'selected_param_table.txt'), index=False)"
   ]
  }
 ],
 "metadata": {
  "kernelspec": {
   "display_name": "Python 3",
   "language": "python",
   "name": "python3"
  },
  "language_info": {
   "codemirror_mode": {
    "name": "ipython",
    "version": 3
   },
   "file_extension": ".py",
   "mimetype": "text/x-python",
   "name": "python",
   "nbconvert_exporter": "python",
   "pygments_lexer": "ipython3",
   "version": "3.7.6"
  }
 },
 "nbformat": 4,
 "nbformat_minor": 2
}
