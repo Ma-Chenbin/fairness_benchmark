{
 "cells": [
  {
   "cell_type": "code",
   "execution_count": 1,
   "metadata": {},
   "outputs": [],
   "source": [
    "import numpy as np\n",
    "import pandas as pd\n",
    "import os\n",
    "import glob\n",
    "import torch\n",
    "import torch.nn.functional as F\n",
    "import joblib\n",
    "import itertools\n",
    "import scipy\n",
    "import matplotlib.pyplot as plt\n",
    "import seaborn as sns\n",
    "import statsmodels.api as sm\n",
    "import warnings\n",
    "import string\n",
    "from sklearn.metrics import roc_auc_score, average_precision_score, brier_score_loss, recall_score, precision_score\n",
    "from prediction_utils.util import df_dict_concat, yaml_read\n",
    "from matplotlib.ticker import FormatStrFormatter"
   ]
  },
  {
   "cell_type": "code",
   "execution_count": 2,
   "metadata": {},
   "outputs": [],
   "source": [
    "project_dir = \"/share/pi/nigam/projects/spfohl/cohorts/admissions/optum\"\n",
    "experiment_name_baseline = 'baseline_tuning_fold_1'\n",
    "experiment_name_fair = 'fair_tuning_fold_1'\n",
    "tasks = ['LOS_7', 'readmission_30']\n",
    "cohort_path = os.path.join(project_dir, 'cohort', 'cohort.parquet')\n",
    "row_id_map_path = os.path.join(\n",
    "    project_dir, 'merged_features_binary/features_sparse/features_row_id_map.parquet'\n",
    ")"
   ]
  },
  {
   "cell_type": "code",
   "execution_count": 3,
   "metadata": {},
   "outputs": [],
   "source": [
    "attributes = ['gender_concept_name', 'age_group']"
   ]
  },
  {
   "cell_type": "code",
   "execution_count": 4,
   "metadata": {},
   "outputs": [],
   "source": [
    "cohort = pd.read_parquet(cohort_path)\n",
    "row_id_map = pd.read_parquet(row_id_map_path)\n",
    "cohort = cohort.merge(row_id_map)"
   ]
  },
  {
   "cell_type": "markdown",
   "metadata": {},
   "source": [
    "### Generate the cohort table"
   ]
  },
  {
   "cell_type": "code",
   "execution_count": 5,
   "metadata": {},
   "outputs": [],
   "source": [
    "### Cohort table\n",
    "cohort_df_long = (\n",
    "    cohort\n",
    "    .melt(\n",
    "        id_vars = ['person_id'] + attributes,\n",
    "        value_vars = tasks,\n",
    "        var_name = 'task',\n",
    "        value_name = 'labels'\n",
    "    )\n",
    "    .melt(\n",
    "        id_vars = ['person_id', 'task', 'labels'],\n",
    "        value_vars = attributes,\n",
    "        var_name = 'attribute',\n",
    "        value_name = 'group'\n",
    "    )\n",
    ")"
   ]
  },
  {
   "cell_type": "code",
   "execution_count": 6,
   "metadata": {},
   "outputs": [],
   "source": [
    "cohort_statistics_df = (\n",
    "    cohort_df_long\n",
    "    .groupby(['task', 'attribute', 'group'])\n",
    "    .agg(\n",
    "        prevalence=('labels', 'mean'),\n",
    "    )\n",
    "    .reset_index()\n",
    "    .groupby('attribute')\n",
    "    .apply(lambda x: x.pivot_table(index = 'group', columns = 'task', values = 'prevalence'))\n",
    "    .reset_index()\n",
    ")\n",
    "\n",
    "group_size_df = (\n",
    "    cohort_df_long\n",
    "    .groupby(['task', 'attribute', 'group'])\n",
    "    .agg(\n",
    "        size = ('labels', lambda x: x.shape[0])\n",
    "    )\n",
    "    .reset_index()\n",
    "    .drop(columns = 'task')\n",
    "    .drop_duplicates()\n",
    ")\n",
    "\n",
    "cohort_statistics_df = cohort_statistics_df.merge(group_size_df)\n",
    "cohort_statistics_df = (\n",
    "    cohort_statistics_df\n",
    "    .set_index(['attribute', 'group'])\n",
    "    [['size'] + tasks]\n",
    ")"
   ]
  },
  {
   "cell_type": "code",
   "execution_count": 7,
   "metadata": {},
   "outputs": [
    {
     "data": {
      "text/html": [
       "<div>\n",
       "<style scoped>\n",
       "    .dataframe tbody tr th:only-of-type {\n",
       "        vertical-align: middle;\n",
       "    }\n",
       "\n",
       "    .dataframe tbody tr th {\n",
       "        vertical-align: top;\n",
       "    }\n",
       "\n",
       "    .dataframe thead th {\n",
       "        text-align: right;\n",
       "    }\n",
       "</style>\n",
       "<table border=\"1\" class=\"dataframe\">\n",
       "  <thead>\n",
       "    <tr style=\"text-align: right;\">\n",
       "      <th></th>\n",
       "      <th></th>\n",
       "      <th>size</th>\n",
       "      <th>LOS_7</th>\n",
       "      <th>readmission_30</th>\n",
       "    </tr>\n",
       "    <tr>\n",
       "      <th>attribute</th>\n",
       "      <th>group</th>\n",
       "      <th></th>\n",
       "      <th></th>\n",
       "      <th></th>\n",
       "    </tr>\n",
       "  </thead>\n",
       "  <tbody>\n",
       "    <tr>\n",
       "      <th rowspan=\"6\" valign=\"top\">age_group</th>\n",
       "      <th>[18-30)</th>\n",
       "      <td>1067423</td>\n",
       "      <td>0.060803</td>\n",
       "      <td>0.034595</td>\n",
       "    </tr>\n",
       "    <tr>\n",
       "      <th>[30-45)</th>\n",
       "      <td>1854239</td>\n",
       "      <td>0.061145</td>\n",
       "      <td>0.034738</td>\n",
       "    </tr>\n",
       "    <tr>\n",
       "      <th>[45-55)</th>\n",
       "      <td>1006924</td>\n",
       "      <td>0.137928</td>\n",
       "      <td>0.061149</td>\n",
       "    </tr>\n",
       "    <tr>\n",
       "      <th>[55-65)</th>\n",
       "      <td>1173140</td>\n",
       "      <td>0.195259</td>\n",
       "      <td>0.080777</td>\n",
       "    </tr>\n",
       "    <tr>\n",
       "      <th>[65-75)</th>\n",
       "      <td>1294273</td>\n",
       "      <td>0.257880</td>\n",
       "      <td>0.100376</td>\n",
       "    </tr>\n",
       "    <tr>\n",
       "      <th>[75-91)</th>\n",
       "      <td>1678572</td>\n",
       "      <td>0.385770</td>\n",
       "      <td>0.168239</td>\n",
       "    </tr>\n",
       "    <tr>\n",
       "      <th rowspan=\"3\" valign=\"top\">gender_concept_name</th>\n",
       "      <th>FEMALE</th>\n",
       "      <td>5040564</td>\n",
       "      <td>0.168399</td>\n",
       "      <td>0.076470</td>\n",
       "    </tr>\n",
       "    <tr>\n",
       "      <th>MALE</th>\n",
       "      <td>3032831</td>\n",
       "      <td>0.223706</td>\n",
       "      <td>0.093776</td>\n",
       "    </tr>\n",
       "    <tr>\n",
       "      <th>No matching concept</th>\n",
       "      <td>1176</td>\n",
       "      <td>0.213435</td>\n",
       "      <td>0.111395</td>\n",
       "    </tr>\n",
       "  </tbody>\n",
       "</table>\n",
       "</div>"
      ],
      "text/plain": [
       "                                            size     LOS_7  readmission_30\n",
       "attribute           group                                                 \n",
       "age_group           [18-30)              1067423  0.060803        0.034595\n",
       "                    [30-45)              1854239  0.061145        0.034738\n",
       "                    [45-55)              1006924  0.137928        0.061149\n",
       "                    [55-65)              1173140  0.195259        0.080777\n",
       "                    [65-75)              1294273  0.257880        0.100376\n",
       "                    [75-91)              1678572  0.385770        0.168239\n",
       "gender_concept_name FEMALE               5040564  0.168399        0.076470\n",
       "                    MALE                 3032831  0.223706        0.093776\n",
       "                    No matching concept     1176  0.213435        0.111395"
      ]
     },
     "execution_count": 7,
     "metadata": {},
     "output_type": "execute_result"
    }
   ],
   "source": [
    "cohort_statistics_df"
   ]
  },
  {
   "cell_type": "code",
   "execution_count": 8,
   "metadata": {},
   "outputs": [],
   "source": [
    "## Write to Latex\n",
    "table_path = './../figures/optum'\n",
    "os.makedirs(table_path, exist_ok=True)\n",
    "with open(os.path.join(table_path, 'cohort_table.txt'), 'w') as fp:\n",
    "    (\n",
    "        cohort_statistics_df\n",
    "        .reset_index().drop(columns='attribute').set_index(['group'])\n",
    "        .to_latex(\n",
    "            fp, \n",
    "            float_format = '%.3g', \n",
    "            index_names = False, \n",
    "            index=True\n",
    "        )\n",
    "    )"
   ]
  }
 ],
 "metadata": {
  "kernelspec": {
   "display_name": "Python 3",
   "language": "python",
   "name": "python3"
  },
  "language_info": {
   "codemirror_mode": {
    "name": "ipython",
    "version": 3
   },
   "file_extension": ".py",
   "mimetype": "text/x-python",
   "name": "python",
   "nbconvert_exporter": "python",
   "pygments_lexer": "ipython3",
   "version": "3.7.6"
  }
 },
 "nbformat": 4,
 "nbformat_minor": 2
}
